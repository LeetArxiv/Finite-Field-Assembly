{
 "cells": [
  {
   "cell_type": "code",
   "execution_count": 5,
   "id": "latest-welding",
   "metadata": {},
   "outputs": [
    {
     "name": "stdout",
     "output_type": "stream",
     "text": [
      "Saved as timeline.png\n"
     ]
    }
   ],
   "source": [
    "from PIL import Image, ImageDraw, ImageFont\n",
    "import os\n",
    "\n",
    "# List of filenames in order\n",
    "steps = [0,10,20,40,50,100,200,400,800,1600]\n",
    "filenames = [f\"{step}.jpg\" for step in steps]\n",
    "\n",
    "# Load images\n",
    "images = [Image.open(name) for name in filenames]\n",
    "width, height = images[0].size\n",
    "\n",
    "# Font setup (larger font for better visibility)\n",
    "try:\n",
    "    font = ImageFont.truetype(\"arial.ttf\", 24)\n",
    "except IOError:\n",
    "    font = ImageFont.load_default()\n",
    "\n",
    "# Additional height for x-axis labels\n",
    "axis_height = 40\n",
    "canvas = Image.new(\"RGB\", (width * len(images), height + axis_height), \"white\")\n",
    "draw = ImageDraw.Draw(canvas)\n",
    "\n",
    "# Draw images\n",
    "for i, (img, step) in enumerate(zip(images, steps)):\n",
    "    x = i * width\n",
    "    canvas.paste(img, (x, 0))\n",
    "\n",
    "    # Draw tick line\n",
    "    tick_y_start = height + 5\n",
    "    tick_y_end = height + 15\n",
    "    tick_x = x + width // 2\n",
    "    draw.line([(tick_x, tick_y_start), (tick_x, tick_y_end)], fill=\"black\", width=2)\n",
    "\n",
    "    # Draw label\n",
    "    label = f\"t={step}\"\n",
    "    bbox = draw.textbbox((0, 0), label, font=font)\n",
    "    text_width = bbox[2] - bbox[0]\n",
    "    text_x = tick_x - text_width // 2\n",
    "    draw.text((text_x, tick_y_end + 2), label, fill=\"black\", font=font)\n",
    "# Save output\n",
    "canvas.save(\"timeline.jpg\", \"JPEG\", quality=90)\n",
    "print(\"Saved as timeline.png\")\n"
   ]
  },
  {
   "cell_type": "code",
   "execution_count": 10,
   "id": "sunrise-poison",
   "metadata": {},
   "outputs": [
    {
     "name": "stdout",
     "output_type": "stream",
     "text": [
      "Saved as annotated_blocks_large_r.jpg\n"
     ]
    }
   ],
   "source": [
    "from PIL import Image, ImageDraw, ImageFont\n",
    "import random\n",
    "\n",
    "# Load the image and convert to RGBA for transparency\n",
    "image = Image.open(\"40.jpg\").convert(\"RGBA\")\n",
    "\n",
    "# Grid size (e.g., 4x4)\n",
    "rows, cols = 28, 28\n",
    "block_w = image.width // cols\n",
    "block_h = image.height // rows\n",
    "\n",
    "# Overlay for translucent colored blocks\n",
    "overlay = Image.new(\"RGBA\", image.size, (255, 255, 255, 0))\n",
    "draw = ImageDraw.Draw(overlay)\n",
    "\n",
    "# Font setup: try very large size, fallback to default\n",
    "try:\n",
    "    font = ImageFont.truetype(\"arial.ttf\", size=block_h // 2)\n",
    "except IOError:\n",
    "    font = ImageFont.load_default()\n",
    "\n",
    "# Generate a list of distinct translucent colors\n",
    "def random_translucent_color():\n",
    "    return (random.randint(0, 255), random.randint(0, 255), random.randint(0, 255), 100)\n",
    "\n",
    "# Draw each block\n",
    "for i in range(rows):\n",
    "    for j in range(cols):\n",
    "        index = i * cols + j + 1\n",
    "        x0, y0 = j * block_w, i * block_h\n",
    "        x1, y1 = x0 + block_w, y0 + block_h\n",
    "\n",
    "        # Random translucent color\n",
    "        color = random_translucent_color()\n",
    "        draw.rectangle([x0, y0, x1, y1], fill=color, outline=(0, 0, 0, 200))\n",
    "\n",
    "        # Huge centered label\n",
    "        label = f\"d{index}\"\n",
    "        bbox = draw.textbbox((0, 0), label, font=font)\n",
    "        text_w, text_h = bbox[2] - bbox[0], bbox[3] - bbox[1]\n",
    "        text_x = x0 + (block_w - text_w) // 2\n",
    "        text_y = y0 + (block_h - text_h) // 2\n",
    "        draw.text((text_x, text_y), label, font=font, fill=(0, 0, 0, 255))\n",
    "\n",
    "# Composite overlay and save\n",
    "result = Image.alpha_composite(image, overlay).convert(\"RGB\")\n",
    "result.save(\"annotated_blocks_small_d.jpg\", \"JPEG\")\n",
    "print(\"Saved as annotated_blocks_large_r.jpg\")\n"
   ]
  },
  {
   "cell_type": "code",
   "execution_count": 13,
   "id": "smart-thumbnail",
   "metadata": {},
   "outputs": [],
   "source": [
    "from PIL import Image\n",
    "\n",
    "# Load your images (ensure they have an alpha channel)\n",
    "img2 = Image.open(\"annotated_blocks_small_d.jpg\").convert(\"RGBA\")\n",
    "img1 = Image.open(\"annotated_blocks_large_r.jpg\").convert(\"RGBA\")\n",
    "\n",
    "# Set gap size\n",
    "gap = 500  # transparent space between images\n",
    "\n",
    "# Calculate new image size\n",
    "new_width = img1.width + gap + img2.width\n",
    "new_height = max(img1.height, img2.height)\n",
    "\n",
    "# Create transparent background\n",
    "combined = Image.new(\"RGBA\", (new_width, new_height), (0, 0, 0, 0))\n",
    "\n",
    "# Paste images with spacing\n",
    "combined.paste(img1, (0, 0), mask=img1)\n",
    "combined.paste(img2, (img1.width + gap, 0), mask=img2)\n",
    "\n",
    "# Save or show\n",
    "combined.save(\"combined.png\")\n",
    "combined.show()\n"
   ]
  }
 ],
 "metadata": {
  "kernelspec": {
   "display_name": "Python 3",
   "language": "python",
   "name": "python3"
  },
  "language_info": {
   "codemirror_mode": {
    "name": "ipython",
    "version": 3
   },
   "file_extension": ".py",
   "mimetype": "text/x-python",
   "name": "python",
   "nbconvert_exporter": "python",
   "pygments_lexer": "ipython3",
   "version": "3.8.10"
  }
 },
 "nbformat": 4,
 "nbformat_minor": 5
}
