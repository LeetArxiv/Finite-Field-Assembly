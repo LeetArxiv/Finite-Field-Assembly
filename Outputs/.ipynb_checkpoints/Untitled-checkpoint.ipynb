{
 "cells": [
  {
   "cell_type": "code",
   "execution_count": 4,
   "id": "removed-child",
   "metadata": {},
   "outputs": [
    {
     "name": "stdout",
     "output_type": "stream",
     "text": [
      "Saved as timeline.png\n"
     ]
    }
   ],
   "source": [
    "from PIL import Image, ImageDraw, ImageFont\n",
    "import os\n",
    "\n",
    "# List of filenames in order\n",
    "steps = [0,10,20,40,50,100,200,400,800,1600]\n",
    "filenames = [f\"{step}.jpg\" for step in steps]\n",
    "\n",
    "# Load images\n",
    "images = [Image.open(name) for name in filenames]\n",
    "width, height = images[0].size\n",
    "\n",
    "# Font setup (larger font for better visibility)\n",
    "try:\n",
    "    font = ImageFont.truetype(\"arial.ttf\", 24)\n",
    "except IOError:\n",
    "    font = ImageFont.load_default()\n",
    "\n",
    "# Additional height for x-axis labels\n",
    "axis_height = 40\n",
    "canvas = Image.new(\"RGB\", (width * len(images), height + axis_height), \"white\")\n",
    "draw = ImageDraw.Draw(canvas)\n",
    "\n",
    "# Draw images\n",
    "for i, (img, step) in enumerate(zip(images, steps)):\n",
    "    x = i * width\n",
    "    canvas.paste(img, (x, 0))\n",
    "\n",
    "    # Draw tick line\n",
    "    tick_y_start = height + 5\n",
    "    tick_y_end = height + 15\n",
    "    tick_x = x + width // 2\n",
    "    draw.line([(tick_x, tick_y_start), (tick_x, tick_y_end)], fill=\"black\", width=2)\n",
    "\n",
    "    # Draw label\n",
    "    label = f\"t={step}\"\n",
    "    bbox = draw.textbbox((0, 0), label, font=font)\n",
    "    text_width = bbox[2] - bbox[0]\n",
    "    text_x = tick_x - text_width // 2\n",
    "    draw.text((text_x, tick_y_end + 2), label, fill=\"black\", font=font)\n",
    "# Save output\n",
    "canvas.save(\"timeline.jpg\", \"JPEG\", quality=90)\n",
    "print(\"Saved as timeline.png\")\n"
   ]
  }
 ],
 "metadata": {
  "kernelspec": {
   "display_name": "Python 3",
   "language": "python",
   "name": "python3"
  },
  "language_info": {
   "codemirror_mode": {
    "name": "ipython",
    "version": 3
   },
   "file_extension": ".py",
   "mimetype": "text/x-python",
   "name": "python",
   "nbconvert_exporter": "python",
   "pygments_lexer": "ipython3",
   "version": "3.8.10"
  }
 },
 "nbformat": 4,
 "nbformat_minor": 5
}
